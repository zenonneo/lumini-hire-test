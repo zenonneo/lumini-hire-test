{
 "cells": [
  {
   "cell_type": "markdown",
   "metadata": {},
   "source": [
    "## Análise de Microdados Enem 2016"
   ]
  },
  {
   "cell_type": "markdown",
   "metadata": {},
   "source": [
    "Base de dados trata-se de uma amostra de inscrições no ENEM de 2016, onde será analisado \n",
    "como é possível segmentar os inscritos de forma clara e objetiva com o intuito de justificar \n",
    "investimentos em educação destinados a certas parcelas de alunos."
   ]
  },
  {
   "cell_type": "code",
   "execution_count": 1,
   "metadata": {},
   "outputs": [],
   "source": [
    "#Bibliotecas utilizadas\n",
    "import pandas as pd\n",
    "import numpy as np\n",
    "import matplotlib.pyplot as plt"
   ]
  },
  {
   "cell_type": "code",
   "execution_count": 2,
   "metadata": {},
   "outputs": [],
   "source": [
    "df_enem = pd.read_csv(\"Microdados_Enem_2016.csv\",sep=\",\",encoding=\"UTF8\")"
   ]
  },
  {
   "cell_type": "markdown",
   "metadata": {},
   "source": [
    "### Analise Exploratória"
   ]
  },
  {
   "cell_type": "code",
   "execution_count": 3,
   "metadata": {},
   "outputs": [
    {
     "data": {
      "text/html": [
       "<div>\n",
       "<style scoped>\n",
       "    .dataframe tbody tr th:only-of-type {\n",
       "        vertical-align: middle;\n",
       "    }\n",
       "\n",
       "    .dataframe tbody tr th {\n",
       "        vertical-align: top;\n",
       "    }\n",
       "\n",
       "    .dataframe thead th {\n",
       "        text-align: right;\n",
       "    }\n",
       "</style>\n",
       "<table border=\"1\" class=\"dataframe\">\n",
       "  <thead>\n",
       "    <tr style=\"text-align: right;\">\n",
       "      <th></th>\n",
       "      <th>Unnamed: 0</th>\n",
       "      <th>NU_INSCRICAO</th>\n",
       "      <th>NU_ANO</th>\n",
       "      <th>CO_MUNICIPIO_RESIDENCIA</th>\n",
       "      <th>NO_MUNICIPIO_RESIDENCIA</th>\n",
       "      <th>CO_UF_RESIDENCIA</th>\n",
       "      <th>SG_UF_RESIDENCIA</th>\n",
       "      <th>NU_IDADE</th>\n",
       "      <th>TP_SEXO</th>\n",
       "      <th>TP_ESTADO_CIVIL</th>\n",
       "      <th>...</th>\n",
       "      <th>Q041</th>\n",
       "      <th>Q042</th>\n",
       "      <th>Q043</th>\n",
       "      <th>Q044</th>\n",
       "      <th>Q045</th>\n",
       "      <th>Q046</th>\n",
       "      <th>Q047</th>\n",
       "      <th>Q048</th>\n",
       "      <th>Q049</th>\n",
       "      <th>Q050</th>\n",
       "    </tr>\n",
       "  </thead>\n",
       "  <tbody>\n",
       "    <tr>\n",
       "      <th>0</th>\n",
       "      <td>1</td>\n",
       "      <td>ed50e8aaa58e7a806c337585efee9ca41f1eb1ad</td>\n",
       "      <td>2016</td>\n",
       "      <td>4314902</td>\n",
       "      <td>Porto Alegre</td>\n",
       "      <td>43</td>\n",
       "      <td>RS</td>\n",
       "      <td>24</td>\n",
       "      <td>M</td>\n",
       "      <td>0.0</td>\n",
       "      <td>...</td>\n",
       "      <td>5.0</td>\n",
       "      <td>A</td>\n",
       "      <td>A</td>\n",
       "      <td>A</td>\n",
       "      <td>A</td>\n",
       "      <td>A</td>\n",
       "      <td>A</td>\n",
       "      <td>A</td>\n",
       "      <td>B</td>\n",
       "      <td>D</td>\n",
       "    </tr>\n",
       "    <tr>\n",
       "      <th>1</th>\n",
       "      <td>2</td>\n",
       "      <td>2c3acac4b33ec2b195d77e7c04a2d75727fad723</td>\n",
       "      <td>2016</td>\n",
       "      <td>2304707</td>\n",
       "      <td>Granja</td>\n",
       "      <td>23</td>\n",
       "      <td>CE</td>\n",
       "      <td>17</td>\n",
       "      <td>F</td>\n",
       "      <td>0.0</td>\n",
       "      <td>...</td>\n",
       "      <td>NaN</td>\n",
       "      <td>A</td>\n",
       "      <td>A</td>\n",
       "      <td>C</td>\n",
       "      <td>A</td>\n",
       "      <td>B</td>\n",
       "      <td>A</td>\n",
       "      <td>A</td>\n",
       "      <td>C</td>\n",
       "      <td>A</td>\n",
       "    </tr>\n",
       "    <tr>\n",
       "      <th>2</th>\n",
       "      <td>3</td>\n",
       "      <td>f4545f8ccb9ff5c8aad7d32951b3f251a26e6568</td>\n",
       "      <td>2016</td>\n",
       "      <td>2304400</td>\n",
       "      <td>Fortaleza</td>\n",
       "      <td>23</td>\n",
       "      <td>CE</td>\n",
       "      <td>21</td>\n",
       "      <td>F</td>\n",
       "      <td>0.0</td>\n",
       "      <td>...</td>\n",
       "      <td>NaN</td>\n",
       "      <td>A</td>\n",
       "      <td>A</td>\n",
       "      <td>A</td>\n",
       "      <td>A</td>\n",
       "      <td>C</td>\n",
       "      <td>A</td>\n",
       "      <td>A</td>\n",
       "      <td>B</td>\n",
       "      <td>A</td>\n",
       "    </tr>\n",
       "    <tr>\n",
       "      <th>3</th>\n",
       "      <td>4</td>\n",
       "      <td>3d6ec248fef899c414e77f82d5c6d2bffbeaf7fe</td>\n",
       "      <td>2016</td>\n",
       "      <td>3304557</td>\n",
       "      <td>Rio de Janeiro</td>\n",
       "      <td>33</td>\n",
       "      <td>RJ</td>\n",
       "      <td>25</td>\n",
       "      <td>F</td>\n",
       "      <td>0.0</td>\n",
       "      <td>...</td>\n",
       "      <td>5.0</td>\n",
       "      <td>C</td>\n",
       "      <td>A</td>\n",
       "      <td>A</td>\n",
       "      <td>A</td>\n",
       "      <td>A</td>\n",
       "      <td>D</td>\n",
       "      <td>A</td>\n",
       "      <td>A</td>\n",
       "      <td>A</td>\n",
       "    </tr>\n",
       "    <tr>\n",
       "      <th>4</th>\n",
       "      <td>5</td>\n",
       "      <td>bf896ac8d3ecadd6dba1dfbf50110afcbf5d3268</td>\n",
       "      <td>2016</td>\n",
       "      <td>1302603</td>\n",
       "      <td>Manaus</td>\n",
       "      <td>13</td>\n",
       "      <td>AM</td>\n",
       "      <td>28</td>\n",
       "      <td>M</td>\n",
       "      <td>0.0</td>\n",
       "      <td>...</td>\n",
       "      <td>NaN</td>\n",
       "      <td>A</td>\n",
       "      <td>A</td>\n",
       "      <td>A</td>\n",
       "      <td>A</td>\n",
       "      <td>A</td>\n",
       "      <td>A</td>\n",
       "      <td>A</td>\n",
       "      <td>A</td>\n",
       "      <td>A</td>\n",
       "    </tr>\n",
       "  </tbody>\n",
       "</table>\n",
       "<p>5 rows × 167 columns</p>\n",
       "</div>"
      ],
      "text/plain": [
       "   Unnamed: 0                              NU_INSCRICAO  NU_ANO  \\\n",
       "0           1  ed50e8aaa58e7a806c337585efee9ca41f1eb1ad    2016   \n",
       "1           2  2c3acac4b33ec2b195d77e7c04a2d75727fad723    2016   \n",
       "2           3  f4545f8ccb9ff5c8aad7d32951b3f251a26e6568    2016   \n",
       "3           4  3d6ec248fef899c414e77f82d5c6d2bffbeaf7fe    2016   \n",
       "4           5  bf896ac8d3ecadd6dba1dfbf50110afcbf5d3268    2016   \n",
       "\n",
       "   CO_MUNICIPIO_RESIDENCIA NO_MUNICIPIO_RESIDENCIA  CO_UF_RESIDENCIA  \\\n",
       "0                  4314902            Porto Alegre                43   \n",
       "1                  2304707                  Granja                23   \n",
       "2                  2304400               Fortaleza                23   \n",
       "3                  3304557          Rio de Janeiro                33   \n",
       "4                  1302603                  Manaus                13   \n",
       "\n",
       "  SG_UF_RESIDENCIA  NU_IDADE TP_SEXO  TP_ESTADO_CIVIL  ...  Q041  Q042  Q043  \\\n",
       "0               RS        24       M              0.0  ...   5.0     A     A   \n",
       "1               CE        17       F              0.0  ...   NaN     A     A   \n",
       "2               CE        21       F              0.0  ...   NaN     A     A   \n",
       "3               RJ        25       F              0.0  ...   5.0     C     A   \n",
       "4               AM        28       M              0.0  ...   NaN     A     A   \n",
       "\n",
       "  Q044  Q045 Q046  Q047  Q048  Q049  Q050  \n",
       "0    A     A    A     A     A     B     D  \n",
       "1    C     A    B     A     A     C     A  \n",
       "2    A     A    C     A     A     B     A  \n",
       "3    A     A    A     D     A     A     A  \n",
       "4    A     A    A     A     A     A     A  \n",
       "\n",
       "[5 rows x 167 columns]"
      ]
     },
     "execution_count": 3,
     "metadata": {},
     "output_type": "execute_result"
    }
   ],
   "source": [
    "df_enem.head()"
   ]
  },
  {
   "cell_type": "code",
   "execution_count": 4,
   "metadata": {},
   "outputs": [
    {
     "name": "stdout",
     "output_type": "stream",
     "text": [
      "*** Quantidade de Colunas e Linhas\n"
     ]
    },
    {
     "data": {
      "text/plain": [
       "(13730, 167)"
      ]
     },
     "execution_count": 4,
     "metadata": {},
     "output_type": "execute_result"
    }
   ],
   "source": [
    "print('*** Quantidade de Colunas e Linhas')\n",
    "df_enem.shape"
   ]
  },
  {
   "cell_type": "code",
   "execution_count": 5,
   "metadata": {},
   "outputs": [
    {
     "name": "stdout",
     "output_type": "stream",
     "text": [
      "*** Colunas da base de dados\n"
     ]
    },
    {
     "data": {
      "text/plain": [
       "array(['Unnamed: 0', 'NU_INSCRICAO', 'NU_ANO', 'CO_MUNICIPIO_RESIDENCIA',\n",
       "       'NO_MUNICIPIO_RESIDENCIA', 'CO_UF_RESIDENCIA', 'SG_UF_RESIDENCIA',\n",
       "       'NU_IDADE', 'TP_SEXO', 'TP_ESTADO_CIVIL', 'TP_COR_RACA',\n",
       "       'TP_NACIONALIDADE', 'CO_MUNICIPIO_NASCIMENTO',\n",
       "       'NO_MUNICIPIO_NASCIMENTO', 'CO_UF_NASCIMENTO', 'SG_UF_NASCIMENTO',\n",
       "       'TP_ST_CONCLUSAO', 'TP_ANO_CONCLUIU', 'TP_ESCOLA', 'TP_ENSINO',\n",
       "       'IN_TREINEIRO', 'CO_ESCOLA', 'CO_MUNICIPIO_ESC',\n",
       "       'NO_MUNICIPIO_ESC', 'CO_UF_ESC', 'SG_UF_ESC',\n",
       "       'TP_DEPENDENCIA_ADM_ESC', 'TP_LOCALIZACAO_ESC', 'TP_SIT_FUNC_ESC',\n",
       "       'IN_BAIXA_VISAO', 'IN_CEGUEIRA', 'IN_SURDEZ',\n",
       "       'IN_DEFICIENCIA_AUDITIVA', 'IN_SURDO_CEGUEIRA',\n",
       "       'IN_DEFICIENCIA_FISICA', 'IN_DEFICIENCIA_MENTAL',\n",
       "       'IN_DEFICIT_ATENCAO', 'IN_DISLEXIA', 'IN_DISCALCULIA',\n",
       "       'IN_AUTISMO', 'IN_VISAO_MONOCULAR', 'IN_OUTRA_DEF', 'IN_SABATISTA',\n",
       "       'IN_GESTANTE', 'IN_LACTANTE', 'IN_IDOSO',\n",
       "       'IN_ESTUDA_CLASSE_HOSPITALAR', 'IN_SEM_RECURSO', 'IN_BRAILLE',\n",
       "       'IN_AMPLIADA_24', 'IN_AMPLIADA_18', 'IN_LEDOR', 'IN_ACESSO',\n",
       "       'IN_TRANSCRICAO', 'IN_LIBRAS', 'IN_LEITURA_LABIAL',\n",
       "       'IN_MESA_CADEIRA_RODAS', 'IN_MESA_CADEIRA_SEPARADA',\n",
       "       'IN_APOIO_PERNA', 'IN_GUIA_INTERPRETE', 'IN_MACA', 'IN_COMPUTADOR',\n",
       "       'IN_CADEIRA_ESPECIAL', 'IN_CADEIRA_CANHOTO',\n",
       "       'IN_CADEIRA_ACOLCHOADA', 'IN_PROVA_DEITADO', 'IN_MOBILIARIO_OBESO',\n",
       "       'IN_LAMINA_OVERLAY', 'IN_PROTETOR_AURICULAR', 'IN_MEDIDOR_GLICOSE',\n",
       "       'IN_MAQUINA_BRAILE', 'IN_SOROBAN', 'IN_MARCA_PASSO', 'IN_SONDA',\n",
       "       'IN_MEDICAMENTOS', 'IN_SALA_INDIVIDUAL', 'IN_SALA_ESPECIAL',\n",
       "       'IN_SALA_ACOMPANHANTE', 'IN_MOBILIARIO_ESPECIFICO',\n",
       "       'IN_MATERIAL_ESPECIFICO', 'IN_NOME_SOCIAL', 'IN_CERTIFICADO',\n",
       "       'NO_ENTIDADE_CERTIFICACAO', 'CO_UF_ENTIDADE_CERTIFICACAO',\n",
       "       'SG_UF_ENTIDADE_CERTIFICACAO', 'CO_MUNICIPIO_PROVA',\n",
       "       'NO_MUNICIPIO_PROVA', 'CO_UF_PROVA', 'SG_UF_PROVA',\n",
       "       'TP_PRESENCA_CN', 'TP_PRESENCA_CH', 'TP_PRESENCA_LC',\n",
       "       'TP_PRESENCA_MT', 'CO_PROVA_CN', 'CO_PROVA_CH', 'CO_PROVA_LC',\n",
       "       'CO_PROVA_MT', 'NU_NOTA_CN', 'NU_NOTA_CH', 'NU_NOTA_LC',\n",
       "       'NU_NOTA_MT', 'TX_RESPOSTAS_CN', 'TX_RESPOSTAS_CH',\n",
       "       'TX_RESPOSTAS_LC', 'TX_RESPOSTAS_MT', 'TP_LINGUA',\n",
       "       'TX_GABARITO_CN', 'TX_GABARITO_CH', 'TX_GABARITO_LC',\n",
       "       'TX_GABARITO_MT', 'TP_STATUS_REDACAO', 'NU_NOTA_COMP1',\n",
       "       'NU_NOTA_COMP2', 'NU_NOTA_COMP3', 'NU_NOTA_COMP4', 'NU_NOTA_COMP5',\n",
       "       'NU_NOTA_REDACAO', 'Q001', 'Q002', 'Q003', 'Q004', 'Q005', 'Q006',\n",
       "       'Q007', 'Q008', 'Q009', 'Q010', 'Q011', 'Q012', 'Q013', 'Q014',\n",
       "       'Q015', 'Q016', 'Q017', 'Q018', 'Q019', 'Q020', 'Q021', 'Q022',\n",
       "       'Q023', 'Q024', 'Q025', 'Q026', 'Q027', 'Q028', 'Q029', 'Q030',\n",
       "       'Q031', 'Q032', 'Q033', 'Q034', 'Q035', 'Q036', 'Q037', 'Q038',\n",
       "       'Q039', 'Q040', 'Q041', 'Q042', 'Q043', 'Q044', 'Q045', 'Q046',\n",
       "       'Q047', 'Q048', 'Q049', 'Q050'], dtype=object)"
      ]
     },
     "execution_count": 5,
     "metadata": {},
     "output_type": "execute_result"
    }
   ],
   "source": [
    "print('*** Colunas da base de dados')\n",
    "df_enem.columns.values"
   ]
  },
  {
   "cell_type": "markdown",
   "metadata": {},
   "source": [
    " ### Data Wrangling - Exploração, Limpeza e trasnformação"
   ]
  },
  {
   "cell_type": "code",
   "execution_count": 6,
   "metadata": {},
   "outputs": [],
   "source": [
    "# Colunas Selecionadas de acordo com o critério especificado\n",
    "columns_filter = [\n",
    "    'NU_INSCRICAO',\n",
    "    'NO_MUNICIPIO_RESIDENCIA', \n",
    "    'SG_UF_RESIDENCIA',\n",
    "    'NU_IDADE', \n",
    "    'TP_SEXO', \n",
    "    'TP_ESTADO_CIVIL', \n",
    "    'TP_COR_RACA',\n",
    "    'IN_GESTANTE',\n",
    "    'NU_NOTA_CN',\n",
    "    'NU_NOTA_CH',\n",
    "    'NU_NOTA_LC',\n",
    "    'NU_NOTA_MT',\n",
    "    'NU_NOTA_COMP1',\n",
    "    'NU_NOTA_COMP2',\n",
    "    'NU_NOTA_COMP3',\n",
    "    'NU_NOTA_COMP4',\n",
    "    'NU_NOTA_COMP5',\n",
    "    'NU_NOTA_REDACAO',\n",
    "    'Q001',\n",
    "    'Q002',\n",
    "    'Q006', \n",
    "    'Q047', \n",
    "    'Q050']"
   ]
  },
  {
   "cell_type": "code",
   "execution_count": 7,
   "metadata": {},
   "outputs": [],
   "source": [
    "df_enem_col_filter = df_enem.filter(items=columns_filter)"
   ]
  },
  {
   "cell_type": "code",
   "execution_count": 8,
   "metadata": {},
   "outputs": [
    {
     "name": "stdout",
     "output_type": "stream",
     "text": [
      "*** Dataframe apenas com as colunas selecionadas\n"
     ]
    },
    {
     "data": {
      "text/html": [
       "<div>\n",
       "<style scoped>\n",
       "    .dataframe tbody tr th:only-of-type {\n",
       "        vertical-align: middle;\n",
       "    }\n",
       "\n",
       "    .dataframe tbody tr th {\n",
       "        vertical-align: top;\n",
       "    }\n",
       "\n",
       "    .dataframe thead th {\n",
       "        text-align: right;\n",
       "    }\n",
       "</style>\n",
       "<table border=\"1\" class=\"dataframe\">\n",
       "  <thead>\n",
       "    <tr style=\"text-align: right;\">\n",
       "      <th></th>\n",
       "      <th>NU_INSCRICAO</th>\n",
       "      <th>NO_MUNICIPIO_RESIDENCIA</th>\n",
       "      <th>SG_UF_RESIDENCIA</th>\n",
       "      <th>NU_IDADE</th>\n",
       "      <th>TP_SEXO</th>\n",
       "      <th>TP_ESTADO_CIVIL</th>\n",
       "      <th>TP_COR_RACA</th>\n",
       "      <th>IN_GESTANTE</th>\n",
       "      <th>NU_NOTA_CN</th>\n",
       "      <th>NU_NOTA_CH</th>\n",
       "      <th>...</th>\n",
       "      <th>NU_NOTA_COMP2</th>\n",
       "      <th>NU_NOTA_COMP3</th>\n",
       "      <th>NU_NOTA_COMP4</th>\n",
       "      <th>NU_NOTA_COMP5</th>\n",
       "      <th>NU_NOTA_REDACAO</th>\n",
       "      <th>Q001</th>\n",
       "      <th>Q002</th>\n",
       "      <th>Q006</th>\n",
       "      <th>Q047</th>\n",
       "      <th>Q050</th>\n",
       "    </tr>\n",
       "  </thead>\n",
       "  <tbody>\n",
       "    <tr>\n",
       "      <th>0</th>\n",
       "      <td>ed50e8aaa58e7a806c337585efee9ca41f1eb1ad</td>\n",
       "      <td>Porto Alegre</td>\n",
       "      <td>RS</td>\n",
       "      <td>24</td>\n",
       "      <td>M</td>\n",
       "      <td>0.0</td>\n",
       "      <td>1</td>\n",
       "      <td>0</td>\n",
       "      <td>436.3</td>\n",
       "      <td>495.4</td>\n",
       "      <td>...</td>\n",
       "      <td>120.0</td>\n",
       "      <td>120.0</td>\n",
       "      <td>80.0</td>\n",
       "      <td>80.0</td>\n",
       "      <td>520.0</td>\n",
       "      <td>D</td>\n",
       "      <td>D</td>\n",
       "      <td>C</td>\n",
       "      <td>A</td>\n",
       "      <td>D</td>\n",
       "    </tr>\n",
       "    <tr>\n",
       "      <th>1</th>\n",
       "      <td>2c3acac4b33ec2b195d77e7c04a2d75727fad723</td>\n",
       "      <td>Granja</td>\n",
       "      <td>CE</td>\n",
       "      <td>17</td>\n",
       "      <td>F</td>\n",
       "      <td>0.0</td>\n",
       "      <td>3</td>\n",
       "      <td>0</td>\n",
       "      <td>474.5</td>\n",
       "      <td>544.1</td>\n",
       "      <td>...</td>\n",
       "      <td>120.0</td>\n",
       "      <td>120.0</td>\n",
       "      <td>120.0</td>\n",
       "      <td>80.0</td>\n",
       "      <td>580.0</td>\n",
       "      <td>A</td>\n",
       "      <td>A</td>\n",
       "      <td>B</td>\n",
       "      <td>A</td>\n",
       "      <td>A</td>\n",
       "    </tr>\n",
       "    <tr>\n",
       "      <th>2</th>\n",
       "      <td>f4545f8ccb9ff5c8aad7d32951b3f251a26e6568</td>\n",
       "      <td>Fortaleza</td>\n",
       "      <td>CE</td>\n",
       "      <td>21</td>\n",
       "      <td>F</td>\n",
       "      <td>0.0</td>\n",
       "      <td>3</td>\n",
       "      <td>0</td>\n",
       "      <td>NaN</td>\n",
       "      <td>NaN</td>\n",
       "      <td>...</td>\n",
       "      <td>NaN</td>\n",
       "      <td>NaN</td>\n",
       "      <td>NaN</td>\n",
       "      <td>NaN</td>\n",
       "      <td>NaN</td>\n",
       "      <td>D</td>\n",
       "      <td>D</td>\n",
       "      <td>C</td>\n",
       "      <td>A</td>\n",
       "      <td>A</td>\n",
       "    </tr>\n",
       "    <tr>\n",
       "      <th>3</th>\n",
       "      <td>3d6ec248fef899c414e77f82d5c6d2bffbeaf7fe</td>\n",
       "      <td>Rio de Janeiro</td>\n",
       "      <td>RJ</td>\n",
       "      <td>25</td>\n",
       "      <td>F</td>\n",
       "      <td>0.0</td>\n",
       "      <td>0</td>\n",
       "      <td>0</td>\n",
       "      <td>NaN</td>\n",
       "      <td>NaN</td>\n",
       "      <td>...</td>\n",
       "      <td>NaN</td>\n",
       "      <td>NaN</td>\n",
       "      <td>NaN</td>\n",
       "      <td>NaN</td>\n",
       "      <td>NaN</td>\n",
       "      <td>H</td>\n",
       "      <td>E</td>\n",
       "      <td>E</td>\n",
       "      <td>D</td>\n",
       "      <td>A</td>\n",
       "    </tr>\n",
       "    <tr>\n",
       "      <th>4</th>\n",
       "      <td>bf896ac8d3ecadd6dba1dfbf50110afcbf5d3268</td>\n",
       "      <td>Manaus</td>\n",
       "      <td>AM</td>\n",
       "      <td>28</td>\n",
       "      <td>M</td>\n",
       "      <td>0.0</td>\n",
       "      <td>2</td>\n",
       "      <td>0</td>\n",
       "      <td>NaN</td>\n",
       "      <td>NaN</td>\n",
       "      <td>...</td>\n",
       "      <td>NaN</td>\n",
       "      <td>NaN</td>\n",
       "      <td>NaN</td>\n",
       "      <td>NaN</td>\n",
       "      <td>NaN</td>\n",
       "      <td>E</td>\n",
       "      <td>D</td>\n",
       "      <td>C</td>\n",
       "      <td>A</td>\n",
       "      <td>A</td>\n",
       "    </tr>\n",
       "  </tbody>\n",
       "</table>\n",
       "<p>5 rows × 23 columns</p>\n",
       "</div>"
      ],
      "text/plain": [
       "                               NU_INSCRICAO NO_MUNICIPIO_RESIDENCIA  \\\n",
       "0  ed50e8aaa58e7a806c337585efee9ca41f1eb1ad            Porto Alegre   \n",
       "1  2c3acac4b33ec2b195d77e7c04a2d75727fad723                  Granja   \n",
       "2  f4545f8ccb9ff5c8aad7d32951b3f251a26e6568               Fortaleza   \n",
       "3  3d6ec248fef899c414e77f82d5c6d2bffbeaf7fe          Rio de Janeiro   \n",
       "4  bf896ac8d3ecadd6dba1dfbf50110afcbf5d3268                  Manaus   \n",
       "\n",
       "  SG_UF_RESIDENCIA  NU_IDADE TP_SEXO  TP_ESTADO_CIVIL  TP_COR_RACA  \\\n",
       "0               RS        24       M              0.0            1   \n",
       "1               CE        17       F              0.0            3   \n",
       "2               CE        21       F              0.0            3   \n",
       "3               RJ        25       F              0.0            0   \n",
       "4               AM        28       M              0.0            2   \n",
       "\n",
       "   IN_GESTANTE  NU_NOTA_CN  NU_NOTA_CH  ...  NU_NOTA_COMP2  NU_NOTA_COMP3  \\\n",
       "0            0       436.3       495.4  ...          120.0          120.0   \n",
       "1            0       474.5       544.1  ...          120.0          120.0   \n",
       "2            0         NaN         NaN  ...            NaN            NaN   \n",
       "3            0         NaN         NaN  ...            NaN            NaN   \n",
       "4            0         NaN         NaN  ...            NaN            NaN   \n",
       "\n",
       "   NU_NOTA_COMP4  NU_NOTA_COMP5  NU_NOTA_REDACAO  Q001  Q002  Q006 Q047 Q050  \n",
       "0           80.0           80.0            520.0     D     D     C    A    D  \n",
       "1          120.0           80.0            580.0     A     A     B    A    A  \n",
       "2            NaN            NaN              NaN     D     D     C    A    A  \n",
       "3            NaN            NaN              NaN     H     E     E    D    A  \n",
       "4            NaN            NaN              NaN     E     D     C    A    A  \n",
       "\n",
       "[5 rows x 23 columns]"
      ]
     },
     "execution_count": 8,
     "metadata": {},
     "output_type": "execute_result"
    }
   ],
   "source": [
    "print('*** Dataframe apenas com as colunas selecionadas')\n",
    "df_enem_col_filter.head()"
   ]
  },
  {
   "cell_type": "code",
   "execution_count": 9,
   "metadata": {},
   "outputs": [],
   "source": [
    "#Calculando a Nota Geral\n",
    "df_enem_col_filter['NOTA_GERAL'] =  df_enem_col_filter.NU_NOTA_COMP1 +\\\n",
    "    df_enem_col_filter.NU_NOTA_COMP2 + \\\n",
    "    df_enem_col_filter.NU_NOTA_COMP3 + \\\n",
    "    df_enem_col_filter.NU_NOTA_COMP4 + \\\n",
    "    df_enem_col_filter.NU_NOTA_COMP5 "
   ]
  },
  {
   "cell_type": "code",
   "execution_count": 10,
   "metadata": {},
   "outputs": [
    {
     "name": "stdout",
     "output_type": "stream",
     "text": [
      "*** Informação do meu Dataframe com as colunas selecionadas\n",
      "<class 'pandas.core.frame.DataFrame'>\n",
      "RangeIndex: 13730 entries, 0 to 13729\n",
      "Data columns (total 24 columns):\n",
      " #   Column                   Non-Null Count  Dtype  \n",
      "---  ------                   --------------  -----  \n",
      " 0   NU_INSCRICAO             13730 non-null  object \n",
      " 1   NO_MUNICIPIO_RESIDENCIA  13730 non-null  object \n",
      " 2   SG_UF_RESIDENCIA         13730 non-null  object \n",
      " 3   NU_IDADE                 13730 non-null  int64  \n",
      " 4   TP_SEXO                  13730 non-null  object \n",
      " 5   TP_ESTADO_CIVIL          13202 non-null  float64\n",
      " 6   TP_COR_RACA              13730 non-null  int64  \n",
      " 7   IN_GESTANTE              13730 non-null  int64  \n",
      " 8   NU_NOTA_CN               10341 non-null  float64\n",
      " 9   NU_NOTA_CH               10341 non-null  float64\n",
      " 10  NU_NOTA_LC               10133 non-null  float64\n",
      " 11  NU_NOTA_MT               10133 non-null  float64\n",
      " 12  NU_NOTA_COMP1            10133 non-null  float64\n",
      " 13  NU_NOTA_COMP2            10133 non-null  float64\n",
      " 14  NU_NOTA_COMP3            10133 non-null  float64\n",
      " 15  NU_NOTA_COMP4            10133 non-null  float64\n",
      " 16  NU_NOTA_COMP5            10133 non-null  float64\n",
      " 17  NU_NOTA_REDACAO          10133 non-null  float64\n",
      " 18  Q001                     13730 non-null  object \n",
      " 19  Q002                     13730 non-null  object \n",
      " 20  Q006                     13730 non-null  object \n",
      " 21  Q047                     13730 non-null  object \n",
      " 22  Q050                     13730 non-null  object \n",
      " 23  NOTA_GERAL               10133 non-null  float64\n",
      "dtypes: float64(12), int64(3), object(9)\n",
      "memory usage: 2.5+ MB\n"
     ]
    }
   ],
   "source": [
    "print('*** Informação do meu Dataframe com as colunas selecionadas')\n",
    "df_enem_col_filter.info()"
   ]
  },
  {
   "cell_type": "code",
   "execution_count": 11,
   "metadata": {},
   "outputs": [
    {
     "name": "stdout",
     "output_type": "stream",
     "text": [
      "*** Verificando valores nulos\n"
     ]
    },
    {
     "data": {
      "text/plain": [
       "NU_INSCRICAO                  0\n",
       "NO_MUNICIPIO_RESIDENCIA       0\n",
       "SG_UF_RESIDENCIA              0\n",
       "NU_IDADE                      0\n",
       "TP_SEXO                       0\n",
       "TP_ESTADO_CIVIL             528\n",
       "TP_COR_RACA                   0\n",
       "IN_GESTANTE                   0\n",
       "NU_NOTA_CN                 3389\n",
       "NU_NOTA_CH                 3389\n",
       "NU_NOTA_LC                 3597\n",
       "NU_NOTA_MT                 3597\n",
       "NU_NOTA_COMP1              3597\n",
       "NU_NOTA_COMP2              3597\n",
       "NU_NOTA_COMP3              3597\n",
       "NU_NOTA_COMP4              3597\n",
       "NU_NOTA_COMP5              3597\n",
       "NU_NOTA_REDACAO            3597\n",
       "Q001                          0\n",
       "Q002                          0\n",
       "Q006                          0\n",
       "Q047                          0\n",
       "Q050                          0\n",
       "NOTA_GERAL                 3597\n",
       "dtype: int64"
      ]
     },
     "execution_count": 11,
     "metadata": {},
     "output_type": "execute_result"
    }
   ],
   "source": [
    "print('*** Verificando valores nulos')\n",
    "df_enem_col_filter.isnull().sum()"
   ]
  },
  {
   "cell_type": "markdown",
   "metadata": {},
   "source": [
    "Foi verificado que a variavel de estado civil a informação nula é proviniente a candidatos que não responderam a questão.\n",
    "Os nulos dessa variavel foi trasformado 4 - Não Informado"
   ]
  },
  {
   "cell_type": "code",
   "execution_count": 12,
   "metadata": {},
   "outputs": [
    {
     "name": "stdout",
     "output_type": "stream",
     "text": [
      "*** Transformando a Informação de Estado Civil\n"
     ]
    },
    {
     "data": {
      "text/plain": [
       "NU_INSCRICAO                  0\n",
       "NO_MUNICIPIO_RESIDENCIA       0\n",
       "SG_UF_RESIDENCIA              0\n",
       "NU_IDADE                      0\n",
       "TP_SEXO                       0\n",
       "TP_ESTADO_CIVIL               0\n",
       "TP_COR_RACA                   0\n",
       "IN_GESTANTE                   0\n",
       "NU_NOTA_CN                 3389\n",
       "NU_NOTA_CH                 3389\n",
       "NU_NOTA_LC                 3597\n",
       "NU_NOTA_MT                 3597\n",
       "NU_NOTA_COMP1              3597\n",
       "NU_NOTA_COMP2              3597\n",
       "NU_NOTA_COMP3              3597\n",
       "NU_NOTA_COMP4              3597\n",
       "NU_NOTA_COMP5              3597\n",
       "NU_NOTA_REDACAO            3597\n",
       "Q001                          0\n",
       "Q002                          0\n",
       "Q006                          0\n",
       "Q047                          0\n",
       "Q050                          0\n",
       "NOTA_GERAL                 3597\n",
       "dtype: int64"
      ]
     },
     "execution_count": 12,
     "metadata": {},
     "output_type": "execute_result"
    }
   ],
   "source": [
    "print('*** Transformando a Informação de Estado Civil')\n",
    "df_enem_col_filter['TP_ESTADO_CIVIL'] = df_enem_col_filter['TP_ESTADO_CIVIL'].replace(np.nan, 4)\n",
    "df_enem_col_filter.isnull().sum()"
   ]
  },
  {
   "cell_type": "code",
   "execution_count": 13,
   "metadata": {},
   "outputs": [
    {
     "name": "stdout",
     "output_type": "stream",
     "text": [
      "*** Removendo os candidatos que não realizou algumas das provas\n"
     ]
    },
    {
     "data": {
      "text/plain": [
       "(10097, 24)"
      ]
     },
     "execution_count": 13,
     "metadata": {},
     "output_type": "execute_result"
    }
   ],
   "source": [
    "print('*** Removendo os candidatos que não realizou algumas das provas')\n",
    "df_enem_col_filter.dropna(inplace=True)\n",
    "df_enem_col_filter.shape"
   ]
  },
  {
   "cell_type": "code",
   "execution_count": 14,
   "metadata": {},
   "outputs": [],
   "source": [
    "# transformando os dados das variveis para melhor analise e exibição\n",
    "\n",
    "estado_civil_dic = {\n",
    "    0:'Solteiro(a)',\n",
    "    1:'Casado(a)/Mora com companheiro(a)',\n",
    "    2:'Divorciado(a)/Desquitado(a)/Separado(a)',\n",
    "    3:'Viúvo(a)',\n",
    "    4:'Não Informado'}\n",
    "\n",
    "raca_cor_dic = {\n",
    "    0:'Não declarado',\n",
    "    1:'Branca',\n",
    "    2:'Preta',\n",
    "    3:'Parda',\n",
    "    4:'Amarela',\n",
    "    5:'Indígena ',\n",
    "    6:'Não dispõe da informação'}\n",
    "\n",
    "gestante_dic = {\n",
    "    1:'Sim',\n",
    "    0:'Não'}\n",
    "\n",
    "q001_dic = {\n",
    "    'A':'Nunca estudou.',\n",
    "    'B':'Não completou a 4ª série/5º ano do Ensino Fundamental.',\n",
    "    'C':'Completou a 4ª série/5º ano, mas não completou a 8ª série/9º ano do Ensino Fundamental.',\n",
    "    'D':'Completou a 8ª série/9º ano do Ensino Fundamental, mas não completou o Ensino Médio.',\n",
    "    'E':'Completou o Ensino Médio, mas não completou a Faculdade.',\n",
    "    'F':'Completou a Faculdade, mas não completou a Pós-graduação.',\n",
    "    'G':'Completou a Pós-graduação.','H':'Não sei.'}\n",
    "\n",
    "q002_dic = {\n",
    "    'A':'Nunca estudou.',\n",
    "    'B':'Não completou a 4ª série/5º ano do Ensino Fundamental.',\n",
    "    'C':'Completou a 4ª série/5º ano, mas não completou a 8ª série/9º ano do Ensino Fundamental.',\n",
    "    'D':'Completou a 8ª série/9º ano do Ensino Fundamental, mas não completou o Ensino Médio.',\n",
    "    'E':'Completou o Ensino Médio, mas não completou a Faculdade.',\n",
    "    'F':'Completou a Faculdade, mas não completou a Pós-graduação.',\n",
    "    'G':'Completou a Pós-graduação.',\n",
    "    'H':'Não sei.'}\n",
    "\n",
    "q006_dic = {\n",
    "    'A':'Nenhuma renda.',\n",
    "    'B':'Até R$ 880,00.',\n",
    "    'C':'De R$ 880,01 até R$ 1.320,00.',\n",
    "    'D':'De R$ 1.320,01 até R$ 1.760,00.',\n",
    "    'E':'De R$ 1.760,01 até R$ 2.200,00.',\n",
    "    'F':'De R$ 2.200,01 até R$ 2.640,00.',\n",
    "    'G':'De R$ 2.640,01 até R$ 3.520,00.',\n",
    "    'H':'De R$ 3.520,01 até R$ 4.400,00.',\n",
    "    'I':'De R$ 4.400,01 até R$ 5.280,00.',\n",
    "    'J':'De R$ 5.280,01 até R$ 6.160,00.',\n",
    "    'K':'De R$ 6.160,01 até R$ 7.040,00.',\n",
    "    'L':'De R$ 7.040,01 até R$ 7.920,00.',\n",
    "    'M':'De R$ 7.920,01 até R$ 8.800,00.',\n",
    "    'N':'De R$ 8.800,01 até R$ 10.560,00.',\n",
    "    'O':'De R$ 10.560,01 até R$ 13.200,00.',\n",
    "    'P':'De R$ 13.200,01 até R$ 17.600,00.',\n",
    "    'Q':'Mais de R$ 17.600,00.'}\n",
    "\n",
    "q047_dic = {\n",
    "'A':'Somente em escola pública.',\n",
    "'B':'Parte em escola pública e parte em escola privada sem bolsa de estudo integral.',\n",
    "'C':'Parte em escola pública e parte em escola privada com bolsa de estudo integral.',\n",
    "'D':'Somente em escola privada sem bolsa de estudo integral.',\n",
    "'E':'Somente em escola privada com bolsa de estudo integral.'}\n",
    "\n",
    "\n",
    "q050_dic = {\n",
    "    'A':'Não abandonei, nem fui reprovado.',\n",
    "    'B':'Não abandonei, mas fui reprovado.',\n",
    "    'C':'Abandonei, mas não fui reprovado.',\n",
    "    'D':'Abandonei e fui reprovado.'}"
   ]
  },
  {
   "cell_type": "code",
   "execution_count": 15,
   "metadata": {},
   "outputs": [],
   "source": [
    "df_enem_col_filter['DESC_ESTADO_CIVIL'] = [estado_civil_dic[r] for r in df_enem_col_filter.TP_ESTADO_CIVIL]\n",
    "df_enem_col_filter['DESC_RACA_COR'] = [raca_cor_dic[r] for r in df_enem_col_filter.TP_COR_RACA]\n",
    "df_enem_col_filter['DESC_GESTANTE'] = [gestante_dic[r] for r in df_enem_col_filter.IN_GESTANTE]\n",
    "df_enem_col_filter['DESC_Q001'] = [q001_dic[r] for r in df_enem_col_filter.Q001]\n",
    "df_enem_col_filter['DESC_Q002'] = [q002_dic[r] for r in df_enem_col_filter.Q002]\n",
    "df_enem_col_filter['DESC_Q006'] = [q006_dic[r] for r in df_enem_col_filter.Q006]\n",
    "df_enem_col_filter['DESC_Q047'] = [q047_dic[r] for r in df_enem_col_filter.Q047]\n",
    "df_enem_col_filter['DESC_Q050'] = [q050_dic[r] for r in df_enem_col_filter.Q050]"
   ]
  },
  {
   "cell_type": "markdown",
   "metadata": {},
   "source": [
    " ### Exploração"
   ]
  },
  {
   "cell_type": "markdown",
   "metadata": {},
   "source": [
    "#### Sexo dos Candidatos que prestaram o Enem"
   ]
  },
  {
   "cell_type": "code",
   "execution_count": 16,
   "metadata": {},
   "outputs": [
    {
     "data": {
      "text/html": [
       "<div>\n",
       "<style scoped>\n",
       "    .dataframe tbody tr th:only-of-type {\n",
       "        vertical-align: middle;\n",
       "    }\n",
       "\n",
       "    .dataframe tbody tr th {\n",
       "        vertical-align: top;\n",
       "    }\n",
       "\n",
       "    .dataframe thead th {\n",
       "        text-align: right;\n",
       "    }\n",
       "</style>\n",
       "<table border=\"1\" class=\"dataframe\">\n",
       "  <thead>\n",
       "    <tr style=\"text-align: right;\">\n",
       "      <th></th>\n",
       "      <th>NU_INSCRICAO</th>\n",
       "    </tr>\n",
       "    <tr>\n",
       "      <th>TP_SEXO</th>\n",
       "      <th></th>\n",
       "    </tr>\n",
       "  </thead>\n",
       "  <tbody>\n",
       "    <tr>\n",
       "      <th>F</th>\n",
       "      <td>6238</td>\n",
       "    </tr>\n",
       "    <tr>\n",
       "      <th>M</th>\n",
       "      <td>3859</td>\n",
       "    </tr>\n",
       "  </tbody>\n",
       "</table>\n",
       "</div>"
      ],
      "text/plain": [
       "         NU_INSCRICAO\n",
       "TP_SEXO              \n",
       "F                6238\n",
       "M                3859"
      ]
     },
     "execution_count": 16,
     "metadata": {},
     "output_type": "execute_result"
    }
   ],
   "source": [
    "df_enem_col_filter.filter(['NU_INSCRICAO','TP_SEXO']).groupby('TP_SEXO').count()"
   ]
  },
  {
   "cell_type": "code",
   "execution_count": 17,
   "metadata": {},
   "outputs": [
    {
     "data": {
      "text/plain": [
       "Text(0, 0.5, 'Quantidade de Candidatos')"
      ]
     },
     "execution_count": 17,
     "metadata": {},
     "output_type": "execute_result"
    },
    {
     "data": {
      "image/png": "[encoded data removed]",
      "text/plain": [
       "<Figure size 1080x720 with 1 Axes>"
      ]
     },
     "metadata": {
      "needs_background": "light"
     },
     "output_type": "display_data"
    }
   ],
   "source": [
    "df = df_enem_col_filter.filter(['NU_INSCRICAO','TP_SEXO']).groupby('TP_SEXO').count()\n",
    "ax = df.plot(kind='bar', title =\"Quantidade de Candidatos que Prestaram o ENEM 2016 \",figsize=(15,10),fontsize=12,color='skyblue')\n",
    "ax.set_xlabel(\"Sexo\",fontsize=12)\n",
    "ax.set_ylabel(\"Quantidade de Candidatos\",fontsize=12)"
   ]
  },
  {
   "cell_type": "markdown",
   "metadata": {},
   "source": [
    "#### Idade dos Candidatos\n",
    "Foi verificado que a menor idade do candidato foi 13 anos enquanto a maior foi 66 anos, sendo que média dos candidatos que prestaram a prova estão entre  os 20 anos"
   ]
  },
  {
   "cell_type": "code",
   "execution_count": 18,
   "metadata": {},
   "outputs": [
    {
     "data": {
      "text/plain": [
       "count    10097.000000\n",
       "mean        20.575517\n",
       "std          6.345231\n",
       "min         13.000000\n",
       "25%         17.000000\n",
       "50%         18.000000\n",
       "75%         21.000000\n",
       "max         66.000000\n",
       "Name: NU_IDADE, dtype: float64"
      ]
     },
     "execution_count": 18,
     "metadata": {},
     "output_type": "execute_result"
    }
   ],
   "source": [
    "df_enem_col_filter.NU_IDADE.describe()"
   ]
  },
  {
   "cell_type": "markdown",
   "metadata": {},
   "source": [
    "#### Quantidade de Candidatos por Estado"
   ]
  },
  {
   "cell_type": "code",
   "execution_count": 19,
   "metadata": {},
   "outputs": [
    {
     "data": {
      "text/plain": [
       "SP    1532\n",
       "CE    1367\n",
       "MG    1008\n",
       "BA     661\n",
       "RJ     540\n",
       "PE     466\n",
       "PA     463\n",
       "MA     461\n",
       "PR     449\n",
       "GO     382\n",
       "RS     378\n",
       "PB     250\n",
       "PI     232\n",
       "ES     211\n",
       "SC     209\n",
       "MT     189\n",
       "RN     185\n",
       "AM     170\n",
       "AL     167\n",
       "DF     161\n",
       "SE     151\n",
       "TO     132\n",
       "MS     130\n",
       "RO      81\n",
       "AP      52\n",
       "AC      48\n",
       "RR      22\n",
       "Name: SG_UF_RESIDENCIA, dtype: int64"
      ]
     },
     "execution_count": 19,
     "metadata": {},
     "output_type": "execute_result"
    }
   ],
   "source": [
    "df_enem_col_filter.SG_UF_RESIDENCIA.value_counts()"
   ]
  },
  {
   "cell_type": "code",
   "execution_count": 20,
   "metadata": {},
   "outputs": [
    {
     "data": {
      "text/plain": [
       "Text(0, 0.5, 'Quantidade de Candidatos')"
      ]
     },
     "execution_count": 20,
     "metadata": {},
     "output_type": "execute_result"
    },
    {
     "data": {
      "image/png": "[encoded data removed]",
      "text/plain": [
       "<Figure size 1080x720 with 1 Axes>"
      ]
     },
     "metadata": {
      "needs_background": "light"
     },
     "output_type": "display_data"
    }
   ],
   "source": [
    "df = df_enem_col_filter.SG_UF_RESIDENCIA.value_counts()\n",
    "ax = df.plot(kind='bar', title =\"Quantidade de Candidatos Por Estado que Prestaram o ENEM 2016 \",figsize=(15,10), fontsize=12,color='skyblue')\n",
    "ax.set_xlabel(\"Estados\",fontsize=12)\n",
    "ax.set_ylabel(\"Quantidade de Candidatos\",fontsize=12)"
   ]
  },
  {
   "cell_type": "markdown",
   "metadata": {},
   "source": [
    "#### Estado Civil dos Candidatos"
   ]
  },
  {
   "cell_type": "code",
   "execution_count": 21,
   "metadata": {},
   "outputs": [
    {
     "data": {
      "text/html": [
       "<div>\n",
       "<style scoped>\n",
       "    .dataframe tbody tr th:only-of-type {\n",
       "        vertical-align: middle;\n",
       "    }\n",
       "\n",
       "    .dataframe tbody tr th {\n",
       "        vertical-align: top;\n",
       "    }\n",
       "\n",
       "    .dataframe thead th {\n",
       "        text-align: right;\n",
       "    }\n",
       "</style>\n",
       "<table border=\"1\" class=\"dataframe\">\n",
       "  <thead>\n",
       "    <tr style=\"text-align: right;\">\n",
       "      <th></th>\n",
       "      <th>NU_INSCRICAO</th>\n",
       "    </tr>\n",
       "    <tr>\n",
       "      <th>DESC_ESTADO_CIVIL</th>\n",
       "      <th></th>\n",
       "    </tr>\n",
       "  </thead>\n",
       "  <tbody>\n",
       "    <tr>\n",
       "      <th>Solteiro(a)</th>\n",
       "      <td>9060</td>\n",
       "    </tr>\n",
       "    <tr>\n",
       "      <th>Casado(a)/Mora com companheiro(a)</th>\n",
       "      <td>638</td>\n",
       "    </tr>\n",
       "    <tr>\n",
       "      <th>Não Informado</th>\n",
       "      <td>316</td>\n",
       "    </tr>\n",
       "    <tr>\n",
       "      <th>Divorciado(a)/Desquitado(a)/Separado(a)</th>\n",
       "      <td>75</td>\n",
       "    </tr>\n",
       "    <tr>\n",
       "      <th>Viúvo(a)</th>\n",
       "      <td>8</td>\n",
       "    </tr>\n",
       "  </tbody>\n",
       "</table>\n",
       "</div>"
      ],
      "text/plain": [
       "                                         NU_INSCRICAO\n",
       "DESC_ESTADO_CIVIL                                    \n",
       "Solteiro(a)                                      9060\n",
       "Casado(a)/Mora com companheiro(a)                 638\n",
       "Não Informado                                     316\n",
       "Divorciado(a)/Desquitado(a)/Separado(a)            75\n",
       "Viúvo(a)                                            8"
      ]
     },
     "execution_count": 21,
     "metadata": {},
     "output_type": "execute_result"
    }
   ],
   "source": [
    "df_enem_col_filter.filter(items=['NU_INSCRICAO','DESC_ESTADO_CIVIL']).groupby('DESC_ESTADO_CIVIL').count().sort_values(by='NU_INSCRICAO',ascending=False)"
   ]
  },
  {
   "cell_type": "code",
   "execution_count": 22,
   "metadata": {},
   "outputs": [
    {
     "data": {
      "text/plain": [
       "Text(0.5, 0, 'Quantidade de Candidatos')"
      ]
     },
     "execution_count": 22,
     "metadata": {},
     "output_type": "execute_result"
    },
    {
     "data": {
      "image/png": "[encoded data removed]",
      "text/plain": [
       "<Figure size 1080x720 with 1 Axes>"
      ]
     },
     "metadata": {
      "needs_background": "light"
     },
     "output_type": "display_data"
    }
   ],
   "source": [
    "df = df_enem_col_filter.filter(items=['NU_INSCRICAO','DESC_ESTADO_CIVIL'])\\\n",
    "                       .groupby('DESC_ESTADO_CIVIL').count().sort_values(by='NU_INSCRICAO',ascending=True)\n",
    "\n",
    "ax = df.plot(kind='barh', title =\"Estado Civil dos Candidatos que Prestaram o ENEM 2016 \",figsize=(15,10), fontsize=12,color='skyblue')\n",
    "ax.set_ylabel(\"Estado Civil\",fontsize=12)\n",
    "ax.set_xlabel(\"Quantidade de Candidatos\",fontsize=12)"
   ]
  },
  {
   "cell_type": "code",
   "execution_count": 23,
   "metadata": {},
   "outputs": [
    {
     "data": {
      "text/plain": [
       "Text(0.5, 0, 'Média da Nota Geral')"
      ]
     },
     "execution_count": 23,
     "metadata": {},
     "output_type": "execute_result"
    },
    {
     "data": {
      "image/png": "[encoded data removed]",
      "text/plain": [
       "<Figure size 1080x720 with 1 Axes>"
      ]
     },
     "metadata": {
      "needs_background": "light"
     },
     "output_type": "display_data"
    }
   ],
   "source": [
    "df = df_enem_col_filter.filter(['DESC_ESTADO_CIVIL','NOTA_GERAL']).groupby('DESC_ESTADO_CIVIL').mean().sort_values(by='NOTA_GERAL',ascending=True)\n",
    "ax = df.plot(kind='barh', title =\"Média da Nota Geral de acordo com o Estado Civil do Candidato\",figsize=(15,10), fontsize=12, color='lightblue')\n",
    "ax.set_ylabel(\"Estado Civil\",fontsize=12)\n",
    "ax.set_xlabel(\"Média da Nota Geral\",fontsize=12)"
   ]
  },
  {
   "cell_type": "markdown",
   "metadata": {},
   "source": [
    "#### Raça e Cor do Candidato"
   ]
  },
  {
   "cell_type": "code",
   "execution_count": 24,
   "metadata": {},
   "outputs": [
    {
     "data": {
      "text/html": [
       "<div>\n",
       "<style scoped>\n",
       "    .dataframe tbody tr th:only-of-type {\n",
       "        vertical-align: middle;\n",
       "    }\n",
       "\n",
       "    .dataframe tbody tr th {\n",
       "        vertical-align: top;\n",
       "    }\n",
       "\n",
       "    .dataframe thead th {\n",
       "        text-align: right;\n",
       "    }\n",
       "</style>\n",
       "<table border=\"1\" class=\"dataframe\">\n",
       "  <thead>\n",
       "    <tr style=\"text-align: right;\">\n",
       "      <th></th>\n",
       "      <th>NU_INSCRICAO</th>\n",
       "    </tr>\n",
       "    <tr>\n",
       "      <th>DESC_RACA_COR</th>\n",
       "      <th></th>\n",
       "    </tr>\n",
       "  </thead>\n",
       "  <tbody>\n",
       "    <tr>\n",
       "      <th>Parda</th>\n",
       "      <td>4887</td>\n",
       "    </tr>\n",
       "    <tr>\n",
       "      <th>Branca</th>\n",
       "      <td>3456</td>\n",
       "    </tr>\n",
       "    <tr>\n",
       "      <th>Preta</th>\n",
       "      <td>1297</td>\n",
       "    </tr>\n",
       "    <tr>\n",
       "      <th>Amarela</th>\n",
       "      <td>226</td>\n",
       "    </tr>\n",
       "    <tr>\n",
       "      <th>Não declarado</th>\n",
       "      <td>167</td>\n",
       "    </tr>\n",
       "    <tr>\n",
       "      <th>Indígena</th>\n",
       "      <td>64</td>\n",
       "    </tr>\n",
       "  </tbody>\n",
       "</table>\n",
       "</div>"
      ],
      "text/plain": [
       "               NU_INSCRICAO\n",
       "DESC_RACA_COR              \n",
       "Parda                  4887\n",
       "Branca                 3456\n",
       "Preta                  1297\n",
       "Amarela                 226\n",
       "Não declarado           167\n",
       "Indígena                 64"
      ]
     },
     "execution_count": 24,
     "metadata": {},
     "output_type": "execute_result"
    }
   ],
   "source": [
    "df_enem_col_filter.filter(['NU_INSCRICAO','DESC_RACA_COR'])\\\n",
    "                    .groupby('DESC_RACA_COR').count()\\\n",
    "                    .sort_values(by='NU_INSCRICAO',ascending=False)"
   ]
  },
  {
   "cell_type": "code",
   "execution_count": 25,
   "metadata": {},
   "outputs": [
    {
     "data": {
      "text/plain": [
       "Text(0.5, 0, 'Quantidade de Candidatos')"
      ]
     },
     "execution_count": 25,
     "metadata": {},
     "output_type": "execute_result"
    },
    {
     "data": {
      "image/png": "[encoded data removed]",
      "text/plain": [
       "<Figure size 1080x720 with 1 Axes>"
      ]
     },
     "metadata": {
      "needs_background": "light"
     },
     "output_type": "display_data"
    }
   ],
   "source": [
    "df = df_enem_col_filter.filter(['NU_INSCRICAO','DESC_RACA_COR']).groupby('DESC_RACA_COR').count()\\\n",
    "                        .sort_values(by='NU_INSCRICAO',ascending=False)\n",
    "\n",
    "ax = df.plot(kind='bar', title =\"Raça/Cor dos Candidatos que Prestaram o ENEM 2016 \",figsize=(15,10), fontsize=12, color='skyblue')\n",
    "ax.set_ylabel(\"Raça/Cor\",fontsize=12)\n",
    "ax.set_xlabel(\"Quantidade de Candidatos\",fontsize=12)"
   ]
  },
  {
   "cell_type": "code",
   "execution_count": 26,
   "metadata": {},
   "outputs": [
    {
     "data": {
      "text/plain": [
       "Text(0.5, 0, 'Média da Nota Geral')"
      ]
     },
     "execution_count": 26,
     "metadata": {},
     "output_type": "execute_result"
    },
    {
     "data": {
      "image/png": "[encoded data removed]",
      "text/plain": [
       "<Figure size 1080x720 with 1 Axes>"
      ]
     },
     "metadata": {
      "needs_background": "light"
     },
     "output_type": "display_data"
    }
   ],
   "source": [
    "df = df_enem_col_filter.filter(['DESC_RACA_COR','NOTA_GERAL']).groupby('DESC_RACA_COR').mean().sort_values(by='NOTA_GERAL',ascending=True)\n",
    "ax = df.plot(kind='barh', title =\"Média da Nota Geral de acordo com o Raça e Cor do Candidato\",figsize=(15,10), fontsize=12, color='lightblue')\n",
    "ax.set_ylabel(\"Raça/Cor\",fontsize=12)\n",
    "ax.set_xlabel(\"Média da Nota Geral\",fontsize=12)"
   ]
  },
  {
   "cell_type": "markdown",
   "metadata": {},
   "source": [
    "#### Gestantes"
   ]
  },
  {
   "cell_type": "code",
   "execution_count": 27,
   "metadata": {},
   "outputs": [
    {
     "data": {
      "text/html": [
       "<div>\n",
       "<style scoped>\n",
       "    .dataframe tbody tr th:only-of-type {\n",
       "        vertical-align: middle;\n",
       "    }\n",
       "\n",
       "    .dataframe tbody tr th {\n",
       "        vertical-align: top;\n",
       "    }\n",
       "\n",
       "    .dataframe thead th {\n",
       "        text-align: right;\n",
       "    }\n",
       "</style>\n",
       "<table border=\"1\" class=\"dataframe\">\n",
       "  <thead>\n",
       "    <tr style=\"text-align: right;\">\n",
       "      <th></th>\n",
       "      <th>NU_INSCRICAO</th>\n",
       "    </tr>\n",
       "    <tr>\n",
       "      <th>DESC_GESTANTE</th>\n",
       "      <th></th>\n",
       "    </tr>\n",
       "  </thead>\n",
       "  <tbody>\n",
       "    <tr>\n",
       "      <th>Não</th>\n",
       "      <td>10093</td>\n",
       "    </tr>\n",
       "    <tr>\n",
       "      <th>Sim</th>\n",
       "      <td>4</td>\n",
       "    </tr>\n",
       "  </tbody>\n",
       "</table>\n",
       "</div>"
      ],
      "text/plain": [
       "               NU_INSCRICAO\n",
       "DESC_GESTANTE              \n",
       "Não                   10093\n",
       "Sim                       4"
      ]
     },
     "execution_count": 27,
     "metadata": {},
     "output_type": "execute_result"
    }
   ],
   "source": [
    "df_enem_col_filter.filter(['NU_INSCRICAO','DESC_GESTANTE']).groupby('DESC_GESTANTE').count()\\\n",
    "                    .sort_values(by='NU_INSCRICAO',ascending=False)"
   ]
  },
  {
   "cell_type": "markdown",
   "metadata": {},
   "source": [
    "#### Analisando o dados da Q001: Até que série seu pai, ou o homem responsável por você, estudou?\n",
    "Quantidades de Pai ou Homem responsavel pelo candidato"
   ]
  },
  {
   "cell_type": "code",
   "execution_count": 28,
   "metadata": {},
   "outputs": [
    {
     "data": {
      "text/html": [
       "<div>\n",
       "<style scoped>\n",
       "    .dataframe tbody tr th:only-of-type {\n",
       "        vertical-align: middle;\n",
       "    }\n",
       "\n",
       "    .dataframe tbody tr th {\n",
       "        vertical-align: top;\n",
       "    }\n",
       "\n",
       "    .dataframe thead th {\n",
       "        text-align: right;\n",
       "    }\n",
       "</style>\n",
       "<table border=\"1\" class=\"dataframe\">\n",
       "  <thead>\n",
       "    <tr style=\"text-align: right;\">\n",
       "      <th></th>\n",
       "      <th>NU_INSCRICAO</th>\n",
       "    </tr>\n",
       "    <tr>\n",
       "      <th>DESC_Q001</th>\n",
       "      <th></th>\n",
       "    </tr>\n",
       "  </thead>\n",
       "  <tbody>\n",
       "    <tr>\n",
       "      <th>Completou o Ensino Médio, mas não completou a Faculdade.</th>\n",
       "      <td>2404</td>\n",
       "    </tr>\n",
       "    <tr>\n",
       "      <th>Não completou a 4ª série/5º ano do Ensino Fundamental.</th>\n",
       "      <td>2287</td>\n",
       "    </tr>\n",
       "    <tr>\n",
       "      <th>Completou a 4ª série/5º ano, mas não completou a 8ª série/9º ano do Ensino Fundamental.</th>\n",
       "      <td>1587</td>\n",
       "    </tr>\n",
       "    <tr>\n",
       "      <th>Completou a 8ª série/9º ano do Ensino Fundamental, mas não completou o Ensino Médio.</th>\n",
       "      <td>1270</td>\n",
       "    </tr>\n",
       "    <tr>\n",
       "      <th>Não sei.</th>\n",
       "      <td>1053</td>\n",
       "    </tr>\n",
       "    <tr>\n",
       "      <th>Nunca estudou.</th>\n",
       "      <td>605</td>\n",
       "    </tr>\n",
       "    <tr>\n",
       "      <th>Completou a Faculdade, mas não completou a Pós-graduação.</th>\n",
       "      <td>602</td>\n",
       "    </tr>\n",
       "    <tr>\n",
       "      <th>Completou a Pós-graduação.</th>\n",
       "      <td>289</td>\n",
       "    </tr>\n",
       "  </tbody>\n",
       "</table>\n",
       "</div>"
      ],
      "text/plain": [
       "                                                    NU_INSCRICAO\n",
       "DESC_Q001                                                       \n",
       "Completou o Ensino Médio, mas não completou a F...          2404\n",
       "Não completou a 4ª série/5º ano do Ensino Funda...          2287\n",
       "Completou a 4ª série/5º ano, mas não completou ...          1587\n",
       "Completou a 8ª série/9º ano do Ensino Fundament...          1270\n",
       "Não sei.                                                    1053\n",
       "Nunca estudou.                                               605\n",
       "Completou a Faculdade, mas não completou a Pós-...           602\n",
       "Completou a Pós-graduação.                                   289"
      ]
     },
     "execution_count": 28,
     "metadata": {},
     "output_type": "execute_result"
    }
   ],
   "source": [
    "df_enem_col_filter.filter(['NU_INSCRICAO','DESC_Q001']).groupby('DESC_Q001').count()\\\n",
    "                    .sort_values(by='NU_INSCRICAO',ascending=False)"
   ]
  },
  {
   "cell_type": "code",
   "execution_count": 29,
   "metadata": {},
   "outputs": [
    {
     "data": {
      "text/plain": [
       "Text(0.5, 0, 'Média da Nota Geral')"
      ]
     },
     "execution_count": 29,
     "metadata": {},
     "output_type": "execute_result"
    },
    {
     "data": {
      "image/png": "[encoded data removed]",
      "text/plain": [
       "<Figure size 1080x720 with 1 Axes>"
      ]
     },
     "metadata": {
      "needs_background": "light"
     },
     "output_type": "display_data"
    }
   ],
   "source": [
    "\n",
    "df = df_enem_col_filter.filter(['DESC_Q001','NOTA_GERAL']).groupby('DESC_Q001').mean().sort_values(by='NOTA_GERAL',ascending=True)\n",
    "\n",
    "ax = df.plot(kind='barh', title =\"Média da Nota Geral do Pai ou Homem Resposavél pelo Candidato\",figsize=(15,10), fontsize=12, color='lightblue')\n",
    "ax.set_ylabel(\"Grau de Escolariedade\",fontsize=12)\n",
    "ax.set_xlabel(\"Média da Nota Geral\",fontsize=12)\n"
   ]
  },
  {
   "cell_type": "markdown",
   "metadata": {},
   "source": [
    "#### Analisando o dados da Q002: Até que série sua mãe, ou a mulher responsável por você, estudou?\n",
    "Quantidades de Mãe ou Mulher responsavel pelo candidato"
   ]
  },
  {
   "cell_type": "code",
   "execution_count": 30,
   "metadata": {},
   "outputs": [
    {
     "data": {
      "text/html": [
       "<div>\n",
       "<style scoped>\n",
       "    .dataframe tbody tr th:only-of-type {\n",
       "        vertical-align: middle;\n",
       "    }\n",
       "\n",
       "    .dataframe tbody tr th {\n",
       "        vertical-align: top;\n",
       "    }\n",
       "\n",
       "    .dataframe thead th {\n",
       "        text-align: right;\n",
       "    }\n",
       "</style>\n",
       "<table border=\"1\" class=\"dataframe\">\n",
       "  <thead>\n",
       "    <tr style=\"text-align: right;\">\n",
       "      <th></th>\n",
       "      <th>NU_INSCRICAO</th>\n",
       "    </tr>\n",
       "    <tr>\n",
       "      <th>DESC_Q002</th>\n",
       "      <th></th>\n",
       "    </tr>\n",
       "  </thead>\n",
       "  <tbody>\n",
       "    <tr>\n",
       "      <th>Completou o Ensino Médio, mas não completou a Faculdade.</th>\n",
       "      <td>2993</td>\n",
       "    </tr>\n",
       "    <tr>\n",
       "      <th>Não completou a 4ª série/5º ano do Ensino Fundamental.</th>\n",
       "      <td>1775</td>\n",
       "    </tr>\n",
       "    <tr>\n",
       "      <th>Completou a 4ª série/5º ano, mas não completou a 8ª série/9º ano do Ensino Fundamental.</th>\n",
       "      <td>1549</td>\n",
       "    </tr>\n",
       "    <tr>\n",
       "      <th>Completou a 8ª série/9º ano do Ensino Fundamental, mas não completou o Ensino Médio.</th>\n",
       "      <td>1503</td>\n",
       "    </tr>\n",
       "    <tr>\n",
       "      <th>Completou a Faculdade, mas não completou a Pós-graduação.</th>\n",
       "      <td>825</td>\n",
       "    </tr>\n",
       "    <tr>\n",
       "      <th>Completou a Pós-graduação.</th>\n",
       "      <td>556</td>\n",
       "    </tr>\n",
       "    <tr>\n",
       "      <th>Não sei.</th>\n",
       "      <td>512</td>\n",
       "    </tr>\n",
       "    <tr>\n",
       "      <th>Nunca estudou.</th>\n",
       "      <td>384</td>\n",
       "    </tr>\n",
       "  </tbody>\n",
       "</table>\n",
       "</div>"
      ],
      "text/plain": [
       "                                                    NU_INSCRICAO\n",
       "DESC_Q002                                                       \n",
       "Completou o Ensino Médio, mas não completou a F...          2993\n",
       "Não completou a 4ª série/5º ano do Ensino Funda...          1775\n",
       "Completou a 4ª série/5º ano, mas não completou ...          1549\n",
       "Completou a 8ª série/9º ano do Ensino Fundament...          1503\n",
       "Completou a Faculdade, mas não completou a Pós-...           825\n",
       "Completou a Pós-graduação.                                   556\n",
       "Não sei.                                                     512\n",
       "Nunca estudou.                                               384"
      ]
     },
     "execution_count": 30,
     "metadata": {},
     "output_type": "execute_result"
    }
   ],
   "source": [
    "df_enem_col_filter.filter(['NU_INSCRICAO','DESC_Q002']).groupby('DESC_Q002').count().sort_values(by='NU_INSCRICAO',ascending=False)"
   ]
  },
  {
   "cell_type": "code",
   "execution_count": 31,
   "metadata": {},
   "outputs": [
    {
     "data": {
      "text/plain": [
       "Text(0.5, 0, 'Média da Nota Geral')"
      ]
     },
     "execution_count": 31,
     "metadata": {},
     "output_type": "execute_result"
    },
    {
     "data": {
      "image/png": "[encoded data removed]",
      "text/plain": [
       "<Figure size 1080x720 with 1 Axes>"
      ]
     },
     "metadata": {
      "needs_background": "light"
     },
     "output_type": "display_data"
    }
   ],
   "source": [
    "df = df_enem_col_filter.filter(['DESC_Q002','NOTA_GERAL']).groupby('DESC_Q002').mean().sort_values(by='NOTA_GERAL',ascending=True)\n",
    "ax = df.plot(kind='barh', title =\"Média da Nota Geral da Mãe ou Mulher Resposavél pelo Candidato\",figsize=(15,10), fontsize=12, color='lightblue')\n",
    "ax.set_ylabel(\"Grau de Escolaridade\",fontsize=12)\n",
    "ax.set_xlabel(\"Média da Nota Geral\",fontsize=12)"
   ]
  },
  {
   "cell_type": "markdown",
   "metadata": {},
   "source": [
    "#### Analisando o dados da Q006: Qual é a renda mensal de sua família? (Some a sua renda com a dos seus familiares.)\n",
    "Soma das rendas dos familiares por Candidato"
   ]
  },
  {
   "cell_type": "code",
   "execution_count": 32,
   "metadata": {},
   "outputs": [
    {
     "data": {
      "text/html": [
       "<div>\n",
       "<style scoped>\n",
       "    .dataframe tbody tr th:only-of-type {\n",
       "        vertical-align: middle;\n",
       "    }\n",
       "\n",
       "    .dataframe tbody tr th {\n",
       "        vertical-align: top;\n",
       "    }\n",
       "\n",
       "    .dataframe thead th {\n",
       "        text-align: right;\n",
       "    }\n",
       "</style>\n",
       "<table border=\"1\" class=\"dataframe\">\n",
       "  <thead>\n",
       "    <tr style=\"text-align: right;\">\n",
       "      <th></th>\n",
       "      <th>NU_INSCRICAO</th>\n",
       "    </tr>\n",
       "    <tr>\n",
       "      <th>DESC_Q006</th>\n",
       "      <th></th>\n",
       "    </tr>\n",
       "  </thead>\n",
       "  <tbody>\n",
       "    <tr>\n",
       "      <th>Até R$ 880,00.</th>\n",
       "      <td>3143</td>\n",
       "    </tr>\n",
       "    <tr>\n",
       "      <th>De R$ 880,01 até R$ 1.320,00.</th>\n",
       "      <td>2547</td>\n",
       "    </tr>\n",
       "    <tr>\n",
       "      <th>De R$ 1.320,01 até R$ 1.760,00.</th>\n",
       "      <td>1157</td>\n",
       "    </tr>\n",
       "    <tr>\n",
       "      <th>De R$ 1.760,01 até R$ 2.200,00.</th>\n",
       "      <td>764</td>\n",
       "    </tr>\n",
       "    <tr>\n",
       "      <th>De R$ 2.200,01 até R$ 2.640,00.</th>\n",
       "      <td>500</td>\n",
       "    </tr>\n",
       "    <tr>\n",
       "      <th>De R$ 2.640,01 até R$ 3.520,00.</th>\n",
       "      <td>496</td>\n",
       "    </tr>\n",
       "    <tr>\n",
       "      <th>De R$ 3.520,01 até R$ 4.400,00.</th>\n",
       "      <td>362</td>\n",
       "    </tr>\n",
       "    <tr>\n",
       "      <th>Nenhuma renda.</th>\n",
       "      <td>331</td>\n",
       "    </tr>\n",
       "    <tr>\n",
       "      <th>De R$ 4.400,01 até R$ 5.280,00.</th>\n",
       "      <td>219</td>\n",
       "    </tr>\n",
       "    <tr>\n",
       "      <th>De R$ 5.280,01 até R$ 6.160,00.</th>\n",
       "      <td>144</td>\n",
       "    </tr>\n",
       "    <tr>\n",
       "      <th>De R$ 8.800,01 até R$ 10.560,00.</th>\n",
       "      <td>85</td>\n",
       "    </tr>\n",
       "    <tr>\n",
       "      <th>De R$ 6.160,01 até R$ 7.040,00.</th>\n",
       "      <td>79</td>\n",
       "    </tr>\n",
       "    <tr>\n",
       "      <th>De R$ 13.200,01 até R$ 17.600,00.</th>\n",
       "      <td>62</td>\n",
       "    </tr>\n",
       "    <tr>\n",
       "      <th>De R$ 7.040,01 até R$ 7.920,00.</th>\n",
       "      <td>56</td>\n",
       "    </tr>\n",
       "    <tr>\n",
       "      <th>Mais de R$ 17.600,00.</th>\n",
       "      <td>54</td>\n",
       "    </tr>\n",
       "    <tr>\n",
       "      <th>De R$ 10.560,01 até R$ 13.200,00.</th>\n",
       "      <td>53</td>\n",
       "    </tr>\n",
       "    <tr>\n",
       "      <th>De R$ 7.920,01 até R$ 8.800,00.</th>\n",
       "      <td>45</td>\n",
       "    </tr>\n",
       "  </tbody>\n",
       "</table>\n",
       "</div>"
      ],
      "text/plain": [
       "                                   NU_INSCRICAO\n",
       "DESC_Q006                                      \n",
       "Até R$ 880,00.                             3143\n",
       "De R$ 880,01 até R$ 1.320,00.              2547\n",
       "De R$ 1.320,01 até R$ 1.760,00.            1157\n",
       "De R$ 1.760,01 até R$ 2.200,00.             764\n",
       "De R$ 2.200,01 até R$ 2.640,00.             500\n",
       "De R$ 2.640,01 até R$ 3.520,00.             496\n",
       "De R$ 3.520,01 até R$ 4.400,00.             362\n",
       "Nenhuma renda.                              331\n",
       "De R$ 4.400,01 até R$ 5.280,00.             219\n",
       "De R$ 5.280,01 até R$ 6.160,00.             144\n",
       "De R$ 8.800,01 até R$ 10.560,00.             85\n",
       "De R$ 6.160,01 até R$ 7.040,00.              79\n",
       "De R$ 13.200,01 até R$ 17.600,00.            62\n",
       "De R$ 7.040,01 até R$ 7.920,00.              56\n",
       "Mais de R$ 17.600,00.                        54\n",
       "De R$ 10.560,01 até R$ 13.200,00.            53\n",
       "De R$ 7.920,01 até R$ 8.800,00.              45"
      ]
     },
     "execution_count": 32,
     "metadata": {},
     "output_type": "execute_result"
    }
   ],
   "source": [
    "df_enem_col_filter.filter(['NU_INSCRICAO','DESC_Q006']).groupby('DESC_Q006').count()\\\n",
    "                    .sort_values(by='NU_INSCRICAO',ascending=False)"
   ]
  },
  {
   "cell_type": "code",
   "execution_count": 33,
   "metadata": {},
   "outputs": [
    {
     "data": {
      "text/plain": [
       "Text(0.5, 0, 'Média da Nota Geral')"
      ]
     },
     "execution_count": 33,
     "metadata": {},
     "output_type": "execute_result"
    },
    {
     "data": {
      "image/png": "[encoded data removed]",
      "text/plain": [
       "<Figure size 1080x720 with 1 Axes>"
      ]
     },
     "metadata": {
      "needs_background": "light"
     },
     "output_type": "display_data"
    }
   ],
   "source": [
    "df = df_enem_col_filter.filter(['DESC_Q006','NOTA_GERAL']).groupby('DESC_Q006').mean().sort_values(by='NOTA_GERAL',ascending=True)\n",
    "ax = df.plot(kind='barh', title =\"Média da Nota Geral de Acordo com a Renda Familiar do Candidato\",figsize=(15,10), fontsize=12, color='lightblue')\n",
    "ax.set_ylabel(\"Renda Familiar\",fontsize=12)\n",
    "ax.set_xlabel(\"Média da Nota Geral\",fontsize=12)"
   ]
  },
  {
   "cell_type": "markdown",
   "metadata": {},
   "source": [
    "#### Analisando o dados da Q047: Em que tipo de escola você frequentou o Ensino Médio?\n",
    "Tipo de Escola que o candidato cursou"
   ]
  },
  {
   "cell_type": "code",
   "execution_count": 34,
   "metadata": {},
   "outputs": [
    {
     "data": {
      "text/html": [
       "<div>\n",
       "<style scoped>\n",
       "    .dataframe tbody tr th:only-of-type {\n",
       "        vertical-align: middle;\n",
       "    }\n",
       "\n",
       "    .dataframe tbody tr th {\n",
       "        vertical-align: top;\n",
       "    }\n",
       "\n",
       "    .dataframe thead th {\n",
       "        text-align: right;\n",
       "    }\n",
       "</style>\n",
       "<table border=\"1\" class=\"dataframe\">\n",
       "  <thead>\n",
       "    <tr style=\"text-align: right;\">\n",
       "      <th></th>\n",
       "      <th>NU_INSCRICAO</th>\n",
       "    </tr>\n",
       "    <tr>\n",
       "      <th>DESC_Q047</th>\n",
       "      <th></th>\n",
       "    </tr>\n",
       "  </thead>\n",
       "  <tbody>\n",
       "    <tr>\n",
       "      <th>Somente em escola pública.</th>\n",
       "      <td>8425</td>\n",
       "    </tr>\n",
       "    <tr>\n",
       "      <th>Somente em escola privada sem bolsa de estudo integral.</th>\n",
       "      <td>1029</td>\n",
       "    </tr>\n",
       "    <tr>\n",
       "      <th>Somente em escola privada com bolsa de estudo integral.</th>\n",
       "      <td>272</td>\n",
       "    </tr>\n",
       "    <tr>\n",
       "      <th>Parte em escola pública e parte em escola privada sem bolsa de estudo integral.</th>\n",
       "      <td>247</td>\n",
       "    </tr>\n",
       "    <tr>\n",
       "      <th>Parte em escola pública e parte em escola privada com bolsa de estudo integral.</th>\n",
       "      <td>124</td>\n",
       "    </tr>\n",
       "  </tbody>\n",
       "</table>\n",
       "</div>"
      ],
      "text/plain": [
       "                                                    NU_INSCRICAO\n",
       "DESC_Q047                                                       \n",
       "Somente em escola pública.                                  8425\n",
       "Somente em escola privada sem bolsa de estudo i...          1029\n",
       "Somente em escola privada com bolsa de estudo i...           272\n",
       "Parte em escola pública e parte em escola priva...           247\n",
       "Parte em escola pública e parte em escola priva...           124"
      ]
     },
     "execution_count": 34,
     "metadata": {},
     "output_type": "execute_result"
    }
   ],
   "source": [
    "df_enem_col_filter.filter(['NU_INSCRICAO','DESC_Q047']).groupby('DESC_Q047').count()\\\n",
    "                    .sort_values(by='NU_INSCRICAO',ascending=False)"
   ]
  },
  {
   "cell_type": "code",
   "execution_count": 40,
   "metadata": {},
   "outputs": [
    {
     "data": {
      "text/html": [
       "<div>\n",
       "<style scoped>\n",
       "    .dataframe tbody tr th:only-of-type {\n",
       "        vertical-align: middle;\n",
       "    }\n",
       "\n",
       "    .dataframe tbody tr th {\n",
       "        vertical-align: top;\n",
       "    }\n",
       "\n",
       "    .dataframe thead th {\n",
       "        text-align: right;\n",
       "    }\n",
       "</style>\n",
       "<table border=\"1\" class=\"dataframe\">\n",
       "  <thead>\n",
       "    <tr style=\"text-align: right;\">\n",
       "      <th></th>\n",
       "      <th>NOTA_GERAL</th>\n",
       "    </tr>\n",
       "    <tr>\n",
       "      <th>DESC_Q047</th>\n",
       "      <th></th>\n",
       "    </tr>\n",
       "  </thead>\n",
       "  <tbody>\n",
       "    <tr>\n",
       "      <th>Parte em escola pública e parte em escola privada com bolsa de estudo integral.</th>\n",
       "      <td>124</td>\n",
       "    </tr>\n",
       "    <tr>\n",
       "      <th>Parte em escola pública e parte em escola privada sem bolsa de estudo integral.</th>\n",
       "      <td>247</td>\n",
       "    </tr>\n",
       "    <tr>\n",
       "      <th>Somente em escola privada com bolsa de estudo integral.</th>\n",
       "      <td>272</td>\n",
       "    </tr>\n",
       "    <tr>\n",
       "      <th>Somente em escola privada sem bolsa de estudo integral.</th>\n",
       "      <td>1029</td>\n",
       "    </tr>\n",
       "    <tr>\n",
       "      <th>Somente em escola pública.</th>\n",
       "      <td>8425</td>\n",
       "    </tr>\n",
       "  </tbody>\n",
       "</table>\n",
       "</div>"
      ],
      "text/plain": [
       "                                                    NOTA_GERAL\n",
       "DESC_Q047                                                     \n",
       "Parte em escola pública e parte em escola priva...         124\n",
       "Parte em escola pública e parte em escola priva...         247\n",
       "Somente em escola privada com bolsa de estudo i...         272\n",
       "Somente em escola privada sem bolsa de estudo i...        1029\n",
       "Somente em escola pública.                                8425"
      ]
     },
     "execution_count": 40,
     "metadata": {},
     "output_type": "execute_result"
    }
   ],
   "source": [
    "df_enem_col_filter.filter(['DESC_Q047','NOTA_GERAL']).groupby('DESC_Q047').count().sort_values(by='NOTA_GERAL',ascending=True)"
   ]
  },
  {
   "cell_type": "code",
   "execution_count": 35,
   "metadata": {},
   "outputs": [
    {
     "data": {
      "text/plain": [
       "Text(0.5, 0, 'Média da Nota Geral')"
      ]
     },
     "execution_count": 35,
     "metadata": {},
     "output_type": "execute_result"
    },
    {
     "data": {
      "image/png": "[encoded data removed]",
      "text/plain": [
       "<Figure size 1080x720 with 1 Axes>"
      ]
     },
     "metadata": {
      "needs_background": "light"
     },
     "output_type": "display_data"
    }
   ],
   "source": [
    "df = df_enem_col_filter.filter(['DESC_Q047','NOTA_GERAL']).groupby('DESC_Q047').mean().sort_values(by='NOTA_GERAL',ascending=True)\n",
    "ax = df.plot(kind='barh', title =\"Média da Nota Geral de Acordo com a Instituição de Ensino que o Candidato Estudou\",figsize=(15,10), fontsize=12, color='lightblue')\n",
    "ax.set_ylabel(\"Tipo de Instituição\",fontsize=12)\n",
    "ax.set_xlabel(\"Média da Nota Geral\",fontsize=12)"
   ]
  },
  {
   "cell_type": "markdown",
   "metadata": {},
   "source": [
    "#### Analisando o dados da Q050: Durante o Ensino Médio, você abandonou os estudos por algum tempo e/ou foi reprovado?\n",
    "Tipo de conclusão dos candidatos"
   ]
  },
  {
   "cell_type": "code",
   "execution_count": 36,
   "metadata": {},
   "outputs": [
    {
     "data": {
      "text/html": [
       "<div>\n",
       "<style scoped>\n",
       "    .dataframe tbody tr th:only-of-type {\n",
       "        vertical-align: middle;\n",
       "    }\n",
       "\n",
       "    .dataframe tbody tr th {\n",
       "        vertical-align: top;\n",
       "    }\n",
       "\n",
       "    .dataframe thead th {\n",
       "        text-align: right;\n",
       "    }\n",
       "</style>\n",
       "<table border=\"1\" class=\"dataframe\">\n",
       "  <thead>\n",
       "    <tr style=\"text-align: right;\">\n",
       "      <th></th>\n",
       "      <th>NU_INSCRICAO</th>\n",
       "    </tr>\n",
       "    <tr>\n",
       "      <th>DESC_Q050</th>\n",
       "      <th></th>\n",
       "    </tr>\n",
       "  </thead>\n",
       "  <tbody>\n",
       "    <tr>\n",
       "      <th>Não abandonei, nem fui reprovado.</th>\n",
       "      <td>8515</td>\n",
       "    </tr>\n",
       "    <tr>\n",
       "      <th>Não abandonei, mas fui reprovado.</th>\n",
       "      <td>819</td>\n",
       "    </tr>\n",
       "    <tr>\n",
       "      <th>Abandonei, mas não fui reprovado.</th>\n",
       "      <td>409</td>\n",
       "    </tr>\n",
       "    <tr>\n",
       "      <th>Abandonei e fui reprovado.</th>\n",
       "      <td>354</td>\n",
       "    </tr>\n",
       "  </tbody>\n",
       "</table>\n",
       "</div>"
      ],
      "text/plain": [
       "                                   NU_INSCRICAO\n",
       "DESC_Q050                                      \n",
       "Não abandonei, nem fui reprovado.          8515\n",
       "Não abandonei, mas fui reprovado.           819\n",
       "Abandonei, mas não fui reprovado.           409\n",
       "Abandonei e fui reprovado.                  354"
      ]
     },
     "execution_count": 36,
     "metadata": {},
     "output_type": "execute_result"
    }
   ],
   "source": [
    "df_enem_col_filter.filter(['NU_INSCRICAO','DESC_Q050']).groupby('DESC_Q050').count()\\\n",
    "                    .sort_values(by='NU_INSCRICAO',ascending=False)"
   ]
  },
  {
   "cell_type": "code",
   "execution_count": 37,
   "metadata": {},
   "outputs": [
    {
     "data": {
      "text/plain": [
       "Text(0.5, 0, 'Média da Nota Geral')"
      ]
     },
     "execution_count": 37,
     "metadata": {},
     "output_type": "execute_result"
    },
    {
     "data": {
      "image/png": "[encoded data removed]",
      "text/plain": [
       "<Figure size 1080x720 with 1 Axes>"
      ]
     },
     "metadata": {
      "needs_background": "light"
     },
     "output_type": "display_data"
    }
   ],
   "source": [
    "df = df_enem_col_filter.filter(['DESC_Q050','NOTA_GERAL']).groupby('DESC_Q050').mean().sort_values(by='NOTA_GERAL',ascending=True)\n",
    "ax = df.plot(kind='barh', title =\"Média da Nota Geral de Acordo com a Instituição de Ensino que o Candidato Estudou\",figsize=(15,10), fontsize=12, color='lightblue')\n",
    "ax.set_ylabel(\"Conclusão\",fontsize=12)\n",
    "ax.set_xlabel(\"Média da Nota Geral\",fontsize=12)"
   ]
  },
  {
   "cell_type": "markdown",
   "metadata": {},
   "source": [
    "### Salvando o dataframe tratado em formado XLSX"
   ]
  },
  {
   "cell_type": "code",
   "execution_count": 38,
   "metadata": {},
   "outputs": [],
   "source": [
    "df_enem_col_filter.to_excel('database_enem_2016_tratado.xlsx', index = False)"
   ]
  }
 ],
 "metadata": {
  "kernelspec": {
   "display_name": "Python 3",
   "language": "python",
   "name": "python3"
  },
  "language_info": {
   "codemirror_mode": {
    "name": "ipython",
    "version": 3
   },
   "file_extension": ".py",
   "mimetype": "text/x-python",
   "name": "python",
   "nbconvert_exporter": "python",
   "pygments_lexer": "ipython3",
   "version": "3.7.6"
  }
 },
 "nbformat": 4,
 "nbformat_minor": 4
}
